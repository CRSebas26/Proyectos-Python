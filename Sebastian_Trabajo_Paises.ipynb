{
  "nbformat": 4,
  "nbformat_minor": 0,
  "metadata": {
    "colab": {
      "provenance": []
    },
    "kernelspec": {
      "name": "python3",
      "display_name": "Python 3"
    },
    "language_info": {
      "name": "python"
    }
  },
  "cells": [
    {
      "cell_type": "markdown",
      "source": [
        "#Brasil\n",
        "\n",
        "Brasil, oficialmente la República Federativa de Brasil, es el país más grande tanto de América del Sur como de la región de Latinoamérica.\n",
        "\n",
        "* **Extensión:** Es el quinto país más grande del mundo, con una superficie vasta y diversa.\n",
        "* **Cultura:** Conocido por su vibrante cultura, incluyendo el Carnaval, la samba y el fútbol.\n",
        "* **Economía:** Es una de las economías más grandes de Latinoamérica.\n",
        "* **Naturaleza:** Alberga una gran parte de la selva amazónica, que es vital para el medio ambiente global.\n",
        "\n",
        "Para más información, visita el [sitio web oficial de Brasil](https://www.gov.br/pt-br).\n",
        "\n",
        "![Bandera de Brasil](https://encrypted-tbn0.gstatic.com/images?q=tbn:ANd9GcQerzQP5tyeOJUf9xMNQKx9pCwcB4Daw0L1ew&s)"
      ],
      "metadata": {
        "id": "svRxkaNmk74g"
      }
    }
  ]
}