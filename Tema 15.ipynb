{
 "cells": [
  {
   "cell_type": "markdown",
   "metadata": {},
   "source": [
    "# Tema 15 - Redes Neuronales"
   ]
  },
  {
   "cell_type": "markdown",
   "metadata": {},
   "source": [
    "# Redes Reuronales\n",
    "## Convetir Grados C a F"
   ]
  },
  {
   "cell_type": "code",
   "execution_count": null,
   "metadata": {},
   "outputs": [],
   "source": [
    "pip install tensorflow"
   ]
  },
  {
   "cell_type": "code",
   "execution_count": 3,
   "metadata": {},
   "outputs": [
    {
     "name": "stderr",
     "output_type": "stream",
     "text": [
      "2024-08-12 14:22:05.423458: I tensorflow/core/platform/cpu_feature_guard.cc:210] This TensorFlow binary is optimized to use available CPU instructions in performance-critical operations.\n",
      "To enable the following instructions: AVX2 FMA, in other operations, rebuild TensorFlow with the appropriate compiler flags.\n"
     ]
    }
   ],
   "source": [
    "import tensorflow as tf\n",
    "import numpy as np"
   ]
  },
  {
   "cell_type": "code",
   "execution_count": 24,
   "metadata": {},
   "outputs": [],
   "source": [
    "celsius = np.array([-40, -10, 0, 8, 15, 22, 38], dtype=float)\n",
    "fahrenheit = np.array([-40, 14, 32, 46, 59, 72, 100], dtype=float)"
   ]
  },
  {
   "cell_type": "code",
   "execution_count": 25,
   "metadata": {},
   "outputs": [
    {
     "name": "stderr",
     "output_type": "stream",
     "text": [
      "/opt/anaconda3/lib/python3.12/site-packages/keras/src/layers/core/dense.py:87: UserWarning: Do not pass an `input_shape`/`input_dim` argument to a layer. When using Sequential models, prefer using an `Input(shape)` object as the first layer in the model instead.\n",
      "  super().__init__(activity_regularizer=activity_regularizer, **kwargs)\n"
     ]
    }
   ],
   "source": [
    "# Definir las capas\n",
    "\n",
    "capa = tf.keras.layers.Dense(units=1, input_shape=[1])\n",
    "\n",
    "#entrada = tf.keras.layers.Dense(units=10, input_shape=[1])\n",
    "#oculta1 = tf.keras.layers.Dense(units=10)\n",
    "#oculta2 = tf.keras.layers.Dense(units=10)\n",
    "#salida= tf.keras.layers.Dense(units=1)"
   ]
  },
  {
   "cell_type": "code",
   "execution_count": 26,
   "metadata": {},
   "outputs": [],
   "source": [
    "# Definir el modelo\n",
    "\n",
    "modelo = tf.keras.Sequential([capa])\n",
    "\n",
    "#modelo = tf.keras.Sequential([entrada,oculta1,oculta2, salida])"
   ]
  },
  {
   "cell_type": "code",
   "execution_count": 27,
   "metadata": {},
   "outputs": [],
   "source": [
    "# Compilar el modelo\n",
    "\n",
    "modelo.compile(\n",
    "    optimizer=tf.keras.optimizers.Adam(0.01),\n",
    "    loss='mean_squared_error'\n",
    ")"
   ]
  },
  {
   "cell_type": "code",
   "execution_count": 28,
   "metadata": {},
   "outputs": [
    {
     "name": "stdout",
     "output_type": "stream",
     "text": [
      "Comenzando entrenamiento...\n",
      "Modelo entrenado!\n"
     ]
    }
   ],
   "source": [
    "# Entrenamiento.\n",
    "\n",
    "print(\"Comenzando entrenamiento...\")\n",
    "historial = modelo.fit(celsius, fahrenheit, epochs=1000, verbose=False)\n",
    "print(\"Modelo entrenado!\")"
   ]
  },
  {
   "cell_type": "code",
   "execution_count": 29,
   "metadata": {},
   "outputs": [
    {
     "data": {
      "text/plain": [
       "[<matplotlib.lines.Line2D at 0x15eca7650>]"
      ]
     },
     "execution_count": 29,
     "metadata": {},
     "output_type": "execute_result"
    },
    {
     "data": {
      "image/png": "[encoded data removed]",
      "text/plain": [
       "<Figure size 640x480 with 1 Axes>"
      ]
     },
     "metadata": {},
     "output_type": "display_data"
    }
   ],
   "source": [
    "import matplotlib.pyplot as plt\n",
    "plt.xlabel(\"# Repeticiones\")\n",
    "plt.ylabel(\"Magnitud de pérdida\")\n",
    "plt.plot(historial.history[\"loss\"])"
   ]
  },
  {
   "cell_type": "code",
   "execution_count": 34,
   "metadata": {},
   "outputs": [
    {
     "name": "stdout",
     "output_type": "stream",
     "text": [
      "Hagamos una predicción!\n",
      "\u001b[1m1/1\u001b[0m \u001b[32m━━━━━━━━━━━━━━━━━━━━\u001b[0m\u001b[37m\u001b[0m \u001b[1m0s\u001b[0m 43ms/step\n",
      "El resultado es [[39.040466]] fahrenheit!\n"
     ]
    }
   ],
   "source": [
    "# hacemos la prediccion\n",
    "valor = np.array([15])\n",
    "print(\"Hagamos una predicción!\")\n",
    "resultado = modelo.predict(valor)\n",
    "print(\"El resultado es \" + str(resultado) + \" fahrenheit!\")"
   ]
  },
  {
   "cell_type": "code",
   "execution_count": 23,
   "metadata": {},
   "outputs": [
    {
     "name": "stdout",
     "output_type": "stream",
     "text": [
      "[array([[-0.5456083 ,  0.2427605 , -0.08754059, -0.41891712,  0.4551564 ,\n",
      "         0.28498372, -0.40852216, -0.55100435, -0.28955314, -0.48402447]],\n",
      "      dtype=float32), array([-0.8004064 , -0.9993508 , -0.98201674, -0.85091585,  0.9328032 ,\n",
      "       -1.3112547 , -0.90001094, -0.8743422 ,  1.0465636 , -0.8450889 ],\n",
      "      dtype=float32)]\n",
      "[array([[ 0.29499307, -0.07767542,  0.1155576 , -0.55730647, -0.45611474,\n",
      "         0.28465497, -0.507488  , -0.2583367 ,  0.13497157, -0.1070802 ],\n",
      "       [-0.06688121, -0.2658997 , -0.04624813, -0.41802436, -0.00757934,\n",
      "        -0.26860353,  0.5654472 ,  0.25014442,  0.55687284,  0.3582135 ],\n",
      "       [ 0.33787224,  0.17359638, -0.09480476, -0.08218406,  0.02465439,\n",
      "        -0.73285735,  0.55555874, -0.40942803,  0.15278102,  0.46320218],\n",
      "       [ 0.3449763 ,  0.42042178,  0.1808785 , -0.3173363 , -0.1378332 ,\n",
      "         0.05603581,  0.49512663, -0.15809862, -0.36155108,  0.23503055],\n",
      "       [-0.09120926,  0.36454195,  0.52523214,  0.60518646, -0.40184042,\n",
      "         0.14113922, -0.24287179, -0.30452415, -0.4131221 , -0.45363364],\n",
      "       [ 0.5450862 ,  0.3690584 ,  0.02695019, -0.10829619, -0.44351873,\n",
      "         0.21425484,  0.68719727, -0.53077006,  0.63369185,  0.50867605],\n",
      "       [-0.43434697,  0.1741297 ,  0.4093122 , -0.2267892 , -0.2473569 ,\n",
      "         0.03525894,  0.4651448 , -0.43342644,  0.5476511 ,  0.22985454],\n",
      "       [-0.04602784,  0.16434327, -0.15599677,  0.16471097,  0.05762748,\n",
      "        -0.37655354,  0.4163015 ,  0.11921472, -0.02194916,  0.54401594],\n",
      "       [-0.42380393, -0.59847635, -0.07200512,  0.00465816, -0.4043172 ,\n",
      "         0.40913945, -0.55941314,  0.16799475,  0.02265774, -0.6617551 ],\n",
      "       [-0.31002873, -0.13940555, -0.06530021, -0.22954589,  0.31813657,\n",
      "        -0.5460885 , -0.29224113,  0.081065  ,  0.3722688 , -0.2648496 ]],\n",
      "      dtype=float32), array([-0.6614826 , -0.89029384,  0.35861656,  0.9131407 , -0.05987962,\n",
      "        0.96321243, -0.9672355 ,  0.95425946, -0.99413127, -0.9772953 ],\n",
      "      dtype=float32)]\n",
      "[array([[ 0.74058807],\n",
      "       [-0.67308205],\n",
      "       [-0.4101388 ],\n",
      "       [ 0.5482213 ],\n",
      "       [ 0.47857422],\n",
      "       [-0.32783642],\n",
      "       [-0.5198899 ],\n",
      "       [-0.62936205],\n",
      "       [-0.26407114],\n",
      "       [-0.43340713]], dtype=float32), array([0.8496639], dtype=float32)]\n"
     ]
    }
   ],
   "source": [
    "# Revisemos los pesos y valores\n",
    "\n",
    "print(entrada.get_weights())\n",
    "print(oculta1.get_weights())\n",
    "print(salida.get_weights())"
   ]
  },
  {
   "cell_type": "markdown",
   "metadata": {},
   "source": [
    "## Segundo Calculo\n",
    "## Convertir de USD a MX ( 1 = 17,08)"
   ]
  },
  {
   "cell_type": "code",
   "execution_count": 36,
   "metadata": {},
   "outputs": [],
   "source": [
    "usd = np.array([1, 5, 14, 8, 37, 201, 345], dtype=int)\n",
    "mx = np.array([\n",
    "    17.08,\n",
    "    85.40,\n",
    "    239.11,\n",
    "    136.63,\n",
    "    631.93,\n",
    "    3432.92,\n",
    "    5892.32\n",
    "    ], dtype=float)"
   ]
  },
  {
   "cell_type": "code",
   "execution_count": 37,
   "metadata": {},
   "outputs": [
    {
     "name": "stderr",
     "output_type": "stream",
     "text": [
      "/opt/anaconda3/lib/python3.12/site-packages/keras/src/layers/core/dense.py:87: UserWarning: Do not pass an `input_shape`/`input_dim` argument to a layer. When using Sequential models, prefer using an `Input(shape)` object as the first layer in the model instead.\n",
      "  super().__init__(activity_regularizer=activity_regularizer, **kwargs)\n"
     ]
    }
   ],
   "source": [
    "capa = tf.keras.layers.Dense(units=1, input_shape=[1])\n",
    "modelo = tf.keras.Sequential([capa])"
   ]
  },
  {
   "cell_type": "code",
   "execution_count": 38,
   "metadata": {},
   "outputs": [],
   "source": [
    "modelo.compile(\n",
    "    optimizer=tf.keras.optimizers.Adam(0.01),\n",
    "    loss='mean_squared_error'\n",
    ")"
   ]
  },
  {
   "cell_type": "code",
   "execution_count": 39,
   "metadata": {},
   "outputs": [
    {
     "name": "stdout",
     "output_type": "stream",
     "text": [
      "Comenzando entrenamiento...\n",
      "Modelo entrenado!\n"
     ]
    }
   ],
   "source": [
    "print(\"Comenzando entrenamiento...\")\n",
    "historial = modelo.fit(usd, mx, epochs=2000, verbose=False)\n",
    "print(\"Modelo entrenado!\")"
   ]
  },
  {
   "cell_type": "code",
   "execution_count": 40,
   "metadata": {},
   "outputs": [
    {
     "data": {
      "text/plain": [
       "[<matplotlib.lines.Line2D at 0x15f1203b0>]"
      ]
     },
     "execution_count": 40,
     "metadata": {},
     "output_type": "execute_result"
    },
    {
     "data": {
      "image/png": "[encoded data removed]",
      "text/plain": [
       "<Figure size 640x480 with 1 Axes>"
      ]
     },
     "metadata": {},
     "output_type": "display_data"
    }
   ],
   "source": [
    "import matplotlib.pyplot as plt\n",
    "plt.xlabel(\"# Repeticiones\")\n",
    "plt.ylabel(\"Magnitud de pérdida\")\n",
    "plt.plot(historial.history[\"loss\"])"
   ]
  },
  {
   "cell_type": "code",
   "execution_count": 41,
   "metadata": {},
   "outputs": [
    {
     "name": "stdout",
     "output_type": "stream",
     "text": [
      "Hagamos una predicción!\n",
      "\u001b[1m1/1\u001b[0m \u001b[32m━━━━━━━━━━━━━━━━━━━━\u001b[0m\u001b[37m\u001b[0m \u001b[1m0s\u001b[0m 37ms/step\n",
      "El resultado es [[227.97498]] usd!\n"
     ]
    }
   ],
   "source": [
    "print(\"Hagamos una predicción!\")\n",
    "valor = np.array([15])\n",
    "resultado = modelo.predict(valor)\n",
    "print(\"El resultado es \" + str(resultado) + \" usd!\")"
   ]
  }
 ],
 "metadata": {
  "kernelspec": {
   "display_name": "base",
   "language": "python",
   "name": "python3"
  },
  "language_info": {
   "codemirror_mode": {
    "name": "ipython",
    "version": 3
   },
   "file_extension": ".py",
   "mimetype": "text/x-python",
   "name": "python",
   "nbconvert_exporter": "python",
   "pygments_lexer": "ipython3",
   "version": "3.12.4"
  }
 },
 "nbformat": 4,
 "nbformat_minor": 2
}
