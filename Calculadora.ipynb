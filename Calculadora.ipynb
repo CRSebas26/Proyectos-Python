{
  "nbformat": 4,
  "nbformat_minor": 0,
  "metadata": {
    "colab": {
      "provenance": []
    },
    "kernelspec": {
      "name": "python3",
      "display_name": "Python 3"
    },
    "language_info": {
      "name": "python"
    }
  },
  "cells": [
    {
      "cell_type": "code",
      "execution_count": null,
      "metadata": {
        "colab": {
          "base_uri": "https://localhost:8080/",
          "height": 0
        },
        "id": "XE-HVZvpA7Ph",
        "outputId": "ba845d4b-479e-45d4-902e-d5f4b2990167"
      },
      "outputs": [
        {
          "output_type": "stream",
          "name": "stdout",
          "text": [
            "\n",
            "--- Calculadora ---\n",
            "Selecciona una operación:\n",
            "1. Suma (+)\n",
            "2. Resta (-)\n",
            "3. Multiplicación (*)\n",
            "4. División (/)\n",
            "5. Salir\n"
          ]
        }
      ],
      "source": [
        "def calculadora():\n",
        "    \"\"\"\n",
        "   Calculadora de operaciones matemáticas básicas.\n",
        "    \"\"\"\n",
        "    while True:\n",
        "        print(\"\\n--- Calculadora ---\")\n",
        "        print(\"Selecciona una operación:\")\n",
        "        print(\"1. Suma (+)\")\n",
        "        print(\"2. Resta (-)\")\n",
        "        print(\"3. Multiplicación (*)\")\n",
        "        print(\"4. División (/)\")\n",
        "        print(\"5. Salir\")\n",
        "\n",
        "        eleccion = input(\"Ingresar opción (1/2/3/4/5): \")\n",
        "\n",
        "        if eleccion == '5':\n",
        "            print(\"Cierre exitoso\")\n",
        "            break\n",
        "\n",
        "        if eleccion in ('1', '2', '3', '4'):\n",
        "            try:\n",
        "                num1 = float(input(\"Primer número: \"))\n",
        "                num2 = float(input(\"Segundo número: \"))\n",
        "            except ValueError:\n",
        "                print(\"Error. Ingresar solo números.\")\n",
        "                continue\n",
        "\n",
        "            if eleccion == '1':\n",
        "                resultado = num1 + num2\n",
        "                print(f\"{num1} + {num2} = {resultado}\")\n",
        "            elif eleccion == '2':\n",
        "                resultado = num1 - num2\n",
        "                print(f\"{num1} - {num2} = {resultado}\")\n",
        "            elif eleccion == '3':\n",
        "                resultado = num1 * num2\n",
        "                print(f\"{num1} * {num2} = {resultado}\")\n",
        "            elif eleccion == '4':\n",
        "                if num2 == 0:\n",
        "                    print(\"Error: No se puede dividir por cero.\")\n",
        "                else:\n",
        "                    resultado = num1 / num2\n",
        "                    print(f\"{num1} / {num2} = {resultado}\")\n",
        "        else:\n",
        "            print(\"Opción inválida. Elige entre (1/2/3/4/5).\")\n",
        "\n",
        "# Ejecutar la calculadora\n",
        "if __name__ == \"__main__\":\n",
        "    calculadora()"
      ]
    }
  ]
}