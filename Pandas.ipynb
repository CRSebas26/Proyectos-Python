{
  "nbformat": 4,
  "nbformat_minor": 0,
  "metadata": {
    "colab": {
      "provenance": []
    },
    "kernelspec": {
      "name": "python3",
      "display_name": "Python 3"
    },
    "language_info": {
      "name": "python"
    }
  },
  "cells": [
    {
      "cell_type": "code",
      "execution_count": 7,
      "metadata": {
        "colab": {
          "base_uri": "https://localhost:8080/"
        },
        "id": "2V5a7R_NIWBi",
        "outputId": "4dd690c9-2a58-4604-d70d-b1ccc57d123e"
      },
      "outputs": [
        {
          "output_type": "stream",
          "name": "stdout",
          "text": [
            "<class 'pandas.core.frame.DataFrame'>\n",
            "RangeIndex: 3000 entries, 0 to 2999\n",
            "Data columns (total 9 columns):\n",
            " #   Column              Non-Null Count  Dtype  \n",
            "---  ------              --------------  -----  \n",
            " 0   longitude           3000 non-null   float64\n",
            " 1   latitude            3000 non-null   float64\n",
            " 2   housing_median_age  3000 non-null   float64\n",
            " 3   total_rooms         3000 non-null   float64\n",
            " 4   total_bedrooms      3000 non-null   float64\n",
            " 5   population          3000 non-null   float64\n",
            " 6   households          3000 non-null   float64\n",
            " 7   median_income       3000 non-null   float64\n",
            " 8   median_house_value  3000 non-null   float64\n",
            "dtypes: float64(9)\n",
            "memory usage: 211.1 KB\n"
          ]
        }
      ],
      "source": [
        "import pandas as pd\n",
        "df1 = pd.read_csv (\"/content/sample_data/california_housing_test.csv\", encoding = \"latin1\")\n",
        "df1.info()"
      ]
    },
    {
      "cell_type": "code",
      "source": [
        "import pandas as pd\n",
        "df2 = pd.read_excel (\"/Employee Sample Data.xlsx\")\n",
        "df2.info()"
      ],
      "metadata": {
        "colab": {
          "base_uri": "https://localhost:8080/"
        },
        "id": "M4DmTZh7K3ID",
        "outputId": "639600e5-56dc-49cf-e641-9052338bb246"
      },
      "execution_count": 15,
      "outputs": [
        {
          "output_type": "stream",
          "name": "stdout",
          "text": [
            "<class 'pandas.core.frame.DataFrame'>\n",
            "RangeIndex: 1000 entries, 0 to 999\n",
            "Data columns (total 14 columns):\n",
            " #   Column         Non-Null Count  Dtype         \n",
            "---  ------         --------------  -----         \n",
            " 0   EEID           1000 non-null   object        \n",
            " 1   Full Name      1000 non-null   object        \n",
            " 2   Job Title      1000 non-null   object        \n",
            " 3   Department     1000 non-null   object        \n",
            " 4   Business Unit  1000 non-null   object        \n",
            " 5   Gender         1000 non-null   object        \n",
            " 6   Ethnicity      1000 non-null   object        \n",
            " 7   Age            1000 non-null   int64         \n",
            " 8   Hire Date      1000 non-null   datetime64[ns]\n",
            " 9   Annual Salary  1000 non-null   int64         \n",
            " 10  Bonus %        1000 non-null   float64       \n",
            " 11  Country        1000 non-null   object        \n",
            " 12  City           1000 non-null   object        \n",
            " 13  Exit Date      85 non-null     datetime64[ns]\n",
            "dtypes: datetime64[ns](2), float64(1), int64(2), object(9)\n",
            "memory usage: 109.5+ KB\n"
          ]
        }
      ]
    },
    {
      "cell_type": "code",
      "source": [],
      "metadata": {
        "id": "WOqcZID5LWbn"
      },
      "execution_count": null,
      "outputs": []
    }
  ]
}